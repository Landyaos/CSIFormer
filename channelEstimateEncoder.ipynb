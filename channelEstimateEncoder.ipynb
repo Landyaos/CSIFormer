{
 "cells": [
  {
   "cell_type": "code",
   "execution_count": 9,
   "id": "eb923113-dbf8-4612-a892-ed65dc148d06",
   "metadata": {},
   "outputs": [],
   "source": [
    "import torch\n",
    "import torch.nn as nn\n",
    "import torch.nn.functional as F\n",
    "import numpy as np\n",
    "from torch.utils.data import Dataset, DataLoader, random_split\n",
    "import hdf5storage\n",
    "import matplotlib.pyplot as plt\n",
    "import torch.optim as optim\n"
   ]
  },
  {
   "cell_type": "markdown",
   "id": "17039dea",
   "metadata": {},
   "source": [
    "##### 数据集预处理\n"
   ]
  },
  {
   "cell_type": "code",
   "execution_count": 10,
   "id": "b2759606",
   "metadata": {},
   "outputs": [],
   "source": [
    "dataPath = './data/raw/trainDataDemo.mat'\n",
    "data = hdf5storage.loadmat(dataPath)\n",
    "csi_data = data['csiData']\n",
    "rx_pilot_signal_data = data['rxPilotSignalData']\n",
    "tx_pilot_signal_data = data['txPilotSignalData']\n",
    "# 将数据转换为PyTorch张量\n",
    "csi_tensor = torch.tensor(csi_data, dtype=torch.float32)\n",
    "rx_pilot_signal_tensor = torch.tensor(rx_pilot_signal_data, dtype=torch.float32)\n",
    "tx_pilot_signal_tensor = torch.tensor(tx_pilot_signal_data, dtype=torch.float32)"
   ]
  },
  {
   "cell_type": "code",
   "execution_count": 11,
   "id": "77f95403",
   "metadata": {},
   "outputs": [
    {
     "data": {
      "text/plain": [
       "torch.Size([500, 52, 14, 2, 2])"
      ]
     },
     "execution_count": 11,
     "metadata": {},
     "output_type": "execute_result"
    }
   ],
   "source": [
    "rx_pilot_signal_tensor.shape"
   ]
  },
  {
   "cell_type": "code",
   "execution_count": 12,
   "id": "9154314b",
   "metadata": {},
   "outputs": [],
   "source": [
    "class CSIFormerDataset(Dataset):\n",
    "    \n",
    "    def __init__(self, dataPath='./data/raw/trainDataDemo.mat'):\n",
    "        \"\"\"\n",
    "        初始化数据集\n",
    "        :param tx_pilot_signal: 发射导频信号 [data_size, n_subc, n_sym, n_tx, 2]\n",
    "        :param rx_pilot_signal: 接收导频信号 [data_size, n_subc, n_sym, n_rx, 2]\n",
    "        :param csi_matrix: CSI矩阵 [data_size, n_subc, n_sym, n_tx, n_rx, 2]\n",
    "        \"\"\"\n",
    "        data = hdf5storage.loadmat(dataPath)\n",
    "        self.csi_matrix = torch.tensor(data['csiData'], dtype=torch.float32)\n",
    "        self.rx_pilot_signal = torch.tensor(data['rxPilotSignalData'], dtype=torch.float32)\n",
    "        self.tx_pilot_signal = torch.tensor(data['txPilotSignalData'], dtype=torch.float32)\n",
    "        self.data_size,self.n_subc, self.n_sym, self.n_tx, self.n_rx, self.n_ch = self.csi_matrix.shape\n",
    "    \n",
    "    def __len__(self):\n",
    "        \"\"\"返回数据集大小\"\"\"\n",
    "        return self.data_size\n",
    "\n",
    "    def __getitem__(self, idx):\n",
    "        \"\"\"\n",
    "        返回单个样本\n",
    "        :param idx: 样本索引\n",
    "        :return: 发射导频、接收导频、CSI矩阵\n",
    "        \"\"\"\n",
    "        tx_pilot = self.tx_pilot_signal[idx]     # [n_subc, n_sym, n_tx, 2]\n",
    "        rx_pilot = self.rx_pilot_signal[idx]     # [n_subc, n_sym, n_rx, 2]\n",
    "        csi = self.csi_matrix[idx]               # [numSubc, n_sym, n_tx, n_rx, 2]\n",
    "        return tx_pilot, rx_pilot, csi"
   ]
  },
  {
   "cell_type": "code",
   "execution_count": 13,
   "id": "20b3b015",
   "metadata": {},
   "outputs": [],
   "source": [
    "###############################################################################\n",
    "# 第一部分：CSIFormer (编码器)\n",
    "###############################################################################\n",
    "class CSIEncoder(nn.Module):\n",
    "    def __init__(self, d_model=256, nhead=2, n_layers=1, n_tx=2, n_rx=2):\n",
    "        \"\"\"\n",
    "        :param d_model: 输入特征维度\n",
    "        :param nhead: 多头注意力头数\n",
    "        :param n_layers: Transformer 层数\n",
    "        :param n_tx: 发射天线数\n",
    "        :param n_rx: 接收天线数\n",
    "        \"\"\"\n",
    "        super(CSIEncoder, self).__init__()\n",
    "        self.d_model = d_model\n",
    "        self.num_tx = n_tx\n",
    "        self.num_rx = n_rx\n",
    "\n",
    "        # 线性层将输入映射到 d_model 维度\n",
    "        self.input_proj = nn.Linear(n_tx * 2 + n_rx * 2, d_model)\n",
    "\n",
    "        # Transformer 编码器 (batch_first=True)\n",
    "        self.transformer_encoder = nn.TransformerEncoder(\n",
    "            nn.TransformerEncoderLayer(\n",
    "                d_model=d_model, \n",
    "                nhead=nhead, \n",
    "                dim_feedforward=2048,\n",
    "                batch_first=True\n",
    "            ),\n",
    "            num_layers=n_layers\n",
    "        )\n",
    "\n",
    "        # 输出层，预测 CSI 矩阵\n",
    "        self.output_proj = nn.Linear(d_model, n_tx * n_rx * 2)\n",
    "\n",
    "    def forward(self, tx_pilot_signal, rx_pilot_signal):\n",
    "        \"\"\"\n",
    "        :param tx_pilot_signal: [B, n_subc, n_sym, n_tx, 2]\n",
    "        :param rx_pilot_signal: [B, n_subc, n_sym, n_rx, 2]\n",
    "        :return: 初步估计的 CSI [B, n_subc, n_sym, n_tx, n_rx, 2]\n",
    "        \"\"\"\n",
    "        batch_size, n_subc, n_sym, _, _ = tx_pilot_signal.shape\n",
    "\n",
    "        # 将发射导频和接收导频拼接为输入特征 [B, n_subc, n_sym, (n_tx+n_rx)*2]\n",
    "        tx_pilot_signal = tx_pilot_signal.view(batch_size, n_subc, n_sym, -1)\n",
    "        rx_pilot_signal = rx_pilot_signal.view(batch_size, n_subc, n_sym, -1)\n",
    "        input_features = torch.cat([tx_pilot_signal, rx_pilot_signal], dim=-1)\n",
    "\n",
    "        # 将输入特征映射到 d_model 维度 [B, n_subc, n_sym, d_model]\n",
    "        input_features = self.input_proj(input_features)\n",
    "\n",
    "        # 将 (n_subc, n_sym) “折叠” 成 seq_len，保持 batch 在第 0 维\n",
    "        # 最终形状: [B, (n_subc*n_sym), d_model]\n",
    "        seq_len = n_subc * n_sym\n",
    "        input_features = input_features.view(batch_size, seq_len, self.d_model)\n",
    "\n",
    "        # 通过 Transformer 编码器 (batch_first=True)\n",
    "        # 结果也是 [B, seq_len, d_model]\n",
    "        output = self.transformer_encoder(input_features)\n",
    "\n",
    "        # 映射到输出维度 (n_tx*n_rx*2)，仍是 [B, seq_len, n_tx*n_rx*2]\n",
    "        output = self.output_proj(output)\n",
    "\n",
    "        # 调整输出形状为 [B, n_subc, n_sym, n_tx, n_rx, 2]\n",
    "        output = output.view(batch_size, n_subc, n_sym, self.num_tx, self.num_rx, 2)\n",
    "\n",
    "        return output"
   ]
  },
  {
   "cell_type": "code",
   "execution_count": 14,
   "id": "6a4e0983",
   "metadata": {},
   "outputs": [],
   "source": [
    "# 模型训练\n",
    "def train_model(model, dataloader, criterion, optimizer, epochs, device):\n",
    "    model.train()\n",
    "    for epoch in range(epochs):\n",
    "        total_loss = 0\n",
    "        for batch_idx,(tx_pilot_batch, rx_pilot_batch, csi_batch) in enumerate(dataloader):\n",
    "            tx_pilot_batch, rx_pilot_batch, csi_batch = tx_pilot_batch.to(device), rx_pilot_batch.to(device), csi_batch.to(device)\n",
    "            optimizer.zero_grad()\n",
    "            outputs = model(tx_pilot_batch, rx_pilot_batch)\n",
    "            loss = criterion(outputs, csi_batch)\n",
    "            loss.backward()\n",
    "            optimizer.step()\n",
    "            total_loss += loss.item()\n",
    "\n",
    "            if (batch_idx + 1) % 10 == 0:\n",
    "                print(f\"Epoch {epoch + 1}/{epochs}, Batch {batch_idx + 1}/{len(dataloader)}, Loss: {loss.item():.4f}\")\n",
    "        \n",
    "        print(f\"Epoch {epoch + 1}/{epochs}, Loss: {total_loss / len(dataloader)}\")\n"
   ]
  },
  {
   "cell_type": "code",
   "execution_count": 15,
   "id": "d4acd13d",
   "metadata": {},
   "outputs": [],
   "source": [
    "# 模型评估\n",
    "def evaluate_model(model, dataloader, criterion, device):\n",
    "    model.eval()\n",
    "    total_loss = 0\n",
    "    with torch.no_grad():\n",
    "        for inputs, targets in dataloader:\n",
    "            inputs, targets = inputs.to(device), targets.to(device)\n",
    "            outputs = model(inputs)\n",
    "            loss = criterion(outputs, targets)\n",
    "            total_loss += loss.item()\n",
    "    print(f\"Evaluation Loss: {total_loss / len(dataloader)}\")\n",
    "\n"
   ]
  },
  {
   "cell_type": "code",
   "execution_count": null,
   "id": "db7f2226",
   "metadata": {},
   "outputs": [],
   "source": [
    "# 主函数执行\n",
    "device = torch.device(\"cuda\" if torch.cuda.is_available() else \"cpu\")\n",
    "lr = 0.001\n",
    "epochs = 10\n",
    "batch_size = 16\n",
    "shuffle_flag = False\n",
    "model = CSIEncoder()\n",
    "dataset = CSIFormerDataset()\n",
    "criterion = nn.MSELoss()\n",
    "optimizer = optim.Adam(model.parameters(), lr=lr)\n",
    "dataloader = DataLoader(dataset=dataset, batch_size=batch_size, shuffle=shuffle_flag)\n",
    "\n",
    "train_model(model, dataloader, criterion, optimizer, epochs, device)\n",
    "# evaluate_model(model, dataloader, criterion, device)"
   ]
  },
  {
   "cell_type": "code",
   "execution_count": 17,
   "id": "2f1fa8bb",
   "metadata": {},
   "outputs": [
    {
     "name": "stdout",
     "output_type": "stream",
     "text": [
      "Total trainable parameters: 1319432\n"
     ]
    }
   ],
   "source": [
    "# 计算参数量\n",
    "def count_parameters(model):\n",
    "    return sum(p.numel() for p in model.parameters() if p.requires_grad)\n",
    "\n",
    "print(f\"Total trainable parameters: {count_parameters(model)}\")"
   ]
  }
 ],
 "metadata": {
  "kernelspec": {
   "display_name": "Python 3",
   "language": "python",
   "name": "python3"
  },
  "language_info": {
   "codemirror_mode": {
    "name": "ipython",
    "version": 3
   },
   "file_extension": ".py",
   "mimetype": "text/x-python",
   "name": "python",
   "nbconvert_exporter": "python",
   "pygments_lexer": "ipython3",
   "version": "3.10.12"
  }
 },
 "nbformat": 4,
 "nbformat_minor": 5
}
