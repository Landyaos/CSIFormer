{
 "cells": [
  {
   "cell_type": "code",
   "execution_count": 1,
   "id": "eb923113-dbf8-4612-a892-ed65dc148d06",
   "metadata": {},
   "outputs": [],
   "source": [
    "import torch\n",
    "import torch.nn as nn\n",
    "import torch.nn.functional as F\n",
    "import numpy as np\n",
    "from torch.utils.data import Dataset, DataLoader, random_split\n",
    "import hdf5storage\n"
   ]
  },
  {
   "cell_type": "markdown",
   "id": "17039dea",
   "metadata": {},
   "source": [
    "## 数据集预处理\n"
   ]
  },
  {
   "cell_type": "code",
   "execution_count": 2,
   "id": "b2759606",
   "metadata": {},
   "outputs": [],
   "source": [
    "\n",
    "dataPath = './data/raw/trainData.mat'\n",
    "data = hdf5storage.loadmat(dataPath)\n",
    "csi_data = data['csiData']\n",
    "tx_signal_data = data['txSignalData']\n",
    "rx_signal_data = data['rxSignalData']\n",
    "data_indices = data['dataIndicesData']\n",
    "pilot_indices = data['pilotIndicesData']\n",
    "rx_pilot_signal_data = data['rxPilotSignalData']\n",
    "rx_data_signal_data = data['rxDataSignalData']\n",
    "tx_pilot_signal_data = data['txPilotSignalData']\n",
    "tx_data_signal_data = data['txDataSignalData']"
   ]
  },
  {
   "cell_type": "code",
   "execution_count": 3,
   "id": "2453a301",
   "metadata": {},
   "outputs": [
    {
     "ename": "",
     "evalue": "",
     "output_type": "error",
     "traceback": [
      "\u001b[1;31mThe Kernel crashed while executing code in the current cell or a previous cell. \n",
      "\u001b[1;31mPlease review the code in the cell(s) to identify a possible cause of the failure. \n",
      "\u001b[1;31mClick <a href='https://aka.ms/vscodeJupyterKernelCrash'>here</a> for more info. \n",
      "\u001b[1;31mView Jupyter <a href='command:jupyter.viewOutput'>log</a> for further details."
     ]
    }
   ],
   "source": [
    "# 将数据转换为PyTorch张量\n",
    "csi_tensor = torch.tensor(csi_data, dtype=torch.float32)\n",
    "tx_signal_tensor = torch.tensor(tx_signal_data, dtype=torch.float32)\n",
    "rx_signal_tensor = torch.tensor(rx_signal_data, dtype=torch.float32)\n",
    "data_indices_tensor = torch.tensor(data_indices, dtype=torch.long)\n",
    "pilot_indices_tensor = torch.tensor(pilot_indices, dtype=torch.long)\n",
    "rx_pilot_signal_tensor = torch.tensor(rx_pilot_signal_data, dtype=torch.float32)\n",
    "rx_data_signal_tensor = torch.tensor(rx_data_signal_data, dtype=torch.float32)\n",
    "tx_pilot_signal_tensor = torch.tensor(tx_pilot_signal_data, dtype=torch.float32)\n",
    "tx_data_signal_tensor = torch.tensor(tx_data_signal_data, dtype=torch.float32)"
   ]
  }
 ],
 "metadata": {
  "kernelspec": {
   "display_name": "Python 3",
   "language": "python",
   "name": "python3"
  },
  "language_info": {
   "codemirror_mode": {
    "name": "ipython",
    "version": 3
   },
   "file_extension": ".py",
   "mimetype": "text/x-python",
   "name": "python",
   "nbconvert_exporter": "python",
   "pygments_lexer": "ipython3",
   "version": "3.10.12"
  }
 },
 "nbformat": 4,
 "nbformat_minor": 5
}
